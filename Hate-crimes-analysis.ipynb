{
 "cells": [
  {
   "cell_type": "markdown",
   "metadata": {},
   "source": [
    "# Hate Crime Analysis\n",
    "\n",
    "Projeto elaborado por:\n",
    "* Bruno Sequeira nº 2020235721 \n",
    "* Rui Santos nº 2020225542"
   ]
  },
  {
   "cell_type": "markdown",
   "metadata": {},
   "source": [
    "## Tema: Hate Crimes\n",
    "\n",
    "### **O que são os Hate Crimes?**\n",
    "\n",
    "Os crimes de ódio são uma manifestação extrema da intolerância e da hostilidade, que têm o poder de infligir danos profundos não apenas às vítimas diretas, mas também às comunidades inteiras. Estes atos, motivados por preconceitos relacionados a características como raça, etnia, religião, orientação sexual, identidade de gênero ou qualquer outra característica percebida como diferente, representam uma grave violação dos direitos humanos e dos princípios de igualdade e dignidade.\n",
    "\n",
    "Em todo o mundo, indivíduos e grupos são alvo de ataques físicos, verbais e emocionais simplesmente por serem quem são. Esses ataques não apenas causam ferimentos físicos, mas também deixam cicatrizes emocionais profundas que podem durar uma vida inteira. O medo, a ansiedade e a sensação de insegurança que resultam desses atos afetam não apenas as vítimas, mas também as suas famílias e comunidades, minando a coesão social e alimentando o ciclo de ódio e violência.\n",
    "\n",
    "É crucial reconhecer que os crimes de ódio não são apenas crimes contra indivíduos, mas também ataques contra os valores fundamentais de uma sociedade democrática e inclusiva. Quando permitimos que o ódio e a intolerância prosperem sem consequências adequadas, comprometemos os princípios de justiça e igualdade que formam a base de uma sociedade civilizada.\n",
    "\n",
    "Combater os crimes de ódio requer uma abordagem multifacetada que envolva não apenas a aplicação rigorosa da lei, mas também a educação, a sensibilização e a promoção da tolerância e da diversidade. Isso significa criar leis e políticas que criminalizem explicitamente os crimes motivados pelo preconceito, mas também investir em programas de educação que promovam o respeito mútuo e a compreensão intercultural.\n",
    "\n",
    "Além disso, é fundamental que as comunidades se unam em solidariedade contra o ódio, mostrando apoio às vítimas, denunciando o discurso de ódio e promovendo uma cultura de respeito e aceitação. Quando nos recusamos a aceitar o ódio como inevitável e nos comprometemos a construir uma sociedade baseada na igualdade e na dignidade de todos os seres humanos, damos um passo importante na direção de um mundo mais justo e compassivo.\n",
    "\n",
    "\n",
    "\n",
    "\n",
    "\n",
    "\n",
    "Iremos abordar agora umas questões, para avaliar se este tema é bom para analisar, tirando algumas conclusões, e contribuições que iremos dar a este tema.\n",
    "\n",
    "\n",
    "\n",
    "* **Importância do Estudo dos Crimes de Ódio para a Sociedade:**\n",
    "    - Estudar os crimes de ódio é crucial para a sociedade por diversas razões. Primeiro, compreender a natureza e as causas desses crimes ajuda a desenvolver estratégias eficazes para preveni-los e combatê-los. Além disso, a análise desses crimes oferece insights valiosos sobre os padrões de discriminação e intolerância presentes numa sociedade, o que pode levar a mudanças legislativas e políticas para promover a igualdade e a justiça. Estudar o ódio também é importante para fornecer apoio adequado às vítimas e promover a cura nas comunidades afetadas.\n",
    "\n",
    "* **O Estado Atual do Conhecimento sobre Crimes de Ódio:**\n",
    "    - Existem numerosos estudos e análises sobre crimes de ódio em várias partes do mundo. Algumas análises destacam a prevalência de crimes de ódio motivados por raça, religião, orientação sexual e outras características protegidas, enquanto outras exploram as tendências de aumento ou diminuição desses crimes ao longo do tempo.\n",
    "    \n",
    "* **Descobertas Relevantes e Novas Contribuições:**\n",
    "    - Para contribuir de forma significativa ao estudo dos crimes de ódio, iremos analisar o impacto destes ao longo dos anos nas sociedades, relacionando com outros aspetos que não encontramos noutras análises realizadas por terceiros. Esses aspetos são o nível de escolaridade, ou seja, se este nível tem algum impacto, se países com o nível mais baixo tem uma percentagem de crimes maior em relação aos países com o nível mais alto.\n",
    "    Outro aspeto bastante importante, é a riqueza dos países, se os países mais ricos são mais conservadores e têm uma percentagem de crimes menor em relação aos países menos desenvolvidos.\n",
    "    Por último, a taxa de imigrantes, se esta tem impacto visto que quanto maior for a taxa de imigração implica que existem mais raças e pode ocorrer uma evolução dos crimes de ódio.\n",
    "    Sendo esse um dado importante para os imigrantes analisarem antes de irem para um país com uma taxa de crimes de ódio relativamente alta. \n",
    "* **Análise Comparativa e Relevância em Diferentes Sociedades:**\n",
    "    - Uma análise comparativa de crimes de ódio em diferentes sociedades pode revelar padrões globais e tendências regionais, bem como diferenças significativas entre contextos culturais.\n",
    "    Portanto, iremos fazer uma comparação entre a Europa, (os países), com os Estados Unidos da América, (os estados). Analisar os países da europa, verificar qual deles têm uma taxa de crimes de ódio alta, analisar o tipo de crime, e o tipo de ofensa."
   ]
  },
  {
   "cell_type": "markdown",
   "metadata": {},
   "source": [
    "## Questão Principal:"
   ]
  },
  {
   "cell_type": "markdown",
   "metadata": {},
   "source": [
    "## Coleta de Dados\n",
    "\n",
    "Para alcançar uma análise abrangente, planejamos coletar conjuntos de dados diversificados e representativos de cada região. Primeiramente, focaremos na obtenção de conjuntos de dados relacionados à Europa, dados entre 2016 e 2022 acerca dos crimes de ódio, sendo que queremos os tipos de crimes e os tipos de ofensas. Com base nos países desse dataset iremos procurar indicadores de riqueza nacional, como o PIB per capita, além de dados sobre a educação, como taxas de imigração. Em seguida, direcionaremos nossa atenção para os Estados Unidos, buscando conjuntos de dados comparáveis que nos permitam realizar uma análise paralela. \n",
    "\n"
   ]
  },
  {
   "cell_type": "markdown",
   "metadata": {},
   "source": [
    "## Imports\n",
    "\n",
    "Nesta secção iremos apresentar todas as packages que necessitamos:"
   ]
  },
  {
   "cell_type": "code",
   "execution_count": 41,
   "metadata": {},
   "outputs": [],
   "source": [
    "import csv\n",
    "import pandas as pd\n",
    "import matplotlib.pyplot as plt"
   ]
  },
  {
   "cell_type": "markdown",
   "metadata": {},
   "source": [
    "## DataSet encontrados e Limpeza \n",
    "\n",
    "Tal como referido anteriormente, a nossa procura começará pela a europa.\n",
    "\n",
    "Sendo que o dataset encontrado corresponde a esta organização: **hatecrime.osce.org**, sendo que este website apresenta dados e informações sobre crimes de ódio apresentados pelos 57 Estados participantes da Organização para a Segurança e Cooperação na Europa (OSCE), juntamente com incidentes e dados apresentados pela sociedade civil e organizações internacionais.\n",
    "\n",
    "Apresentaremos a leitura do dataset, que apresenta os dados entre 2016 até 2022 dos crimes de ódio.\n"
   ]
  },
  {
   "cell_type": "code",
   "execution_count": 11,
   "metadata": {},
   "outputs": [
    {
     "name": "stdout",
     "output_type": "stream",
     "text": [
      "      Date  Country         Bias motivations                Type of incident  \\\n",
      "0  2016-11  Belgium  Anti-Semitic hate crime  Violent attacks against people   \n",
      "\n",
      "             Source                                        Description  \n",
      "0  Antisemitisme.be  A man visibly identifiable as Jewish was pushe...  \n"
     ]
    }
   ],
   "source": [
    "dados = pd.read_csv(\"DataSet/hate_crime_europe.csv\")\n",
    "print(dados[:1])\n"
   ]
  },
  {
   "cell_type": "markdown",
   "metadata": {},
   "source": [
    "Com base no print, existem **6** colunas, a **data**, o **país**, o **motivo**, o **tipo de incidente**, a **fonte**, e a **descrição**.\n",
    "\n",
    "Iremos verificar quantos países são, quantos motivos e quantos tipos de indicentes existem neste dataset."
   ]
  },
  {
   "cell_type": "code",
   "execution_count": 12,
   "metadata": {},
   "outputs": [
    {
     "name": "stdout",
     "output_type": "stream",
     "text": [
      "['Belgium' 'Austria' 'Belarus' 'Bulgaria' 'Denmark' 'France' 'Greece'\n",
      " 'United Kingdom' 'Hungary' 'Armenia' 'Italy' 'Turkey' 'Spain' 'Slovakia'\n",
      " 'Russian Federation' 'Serbia' 'Slovenia' 'Georgia' 'Poland' 'Croatia'\n",
      " 'North Macedonia' 'Kyrgyzstan' 'Tajikistan' 'Uzbekistan' 'Ukraine'\n",
      " 'Moldova' 'Kazakhstan' 'Norway' 'Sweden' 'Switzerland' 'Lithuania'\n",
      " 'Latvia' 'Germany' 'Canada' 'Albania' 'Bosnia and Herzegovina'\n",
      " 'Czech Republic' 'Ireland' 'Netherlands' 'Romania' 'Turkmenistan'\n",
      " 'Luxembourg' 'Cyprus' 'Montenegro' 'Estonia' 'Finland' 'Iceland'\n",
      " 'Portugal' 'Azerbaijan' 'Monaco' 'Malta' 'Liechtenstein'] 52\n",
      "['Anti-Semitic hate crime'\n",
      " 'Anti-Semitic hate crime, Anti-LGBTI hate crime'\n",
      " 'Racist and xenophobic hate crime' 'Anti-Muslim hate crime'\n",
      " 'Racist and xenophobic hate crime, Anti-Muslim hate crime'\n",
      " 'Anti-LGBTI hate crime' 'Anti-Christian hate crime'\n",
      " 'Racist and xenophobic hate crime, Anti-LGBTI hate crime'\n",
      " 'Racist and xenophobic hate crime, Anti-Roma hate crime'\n",
      " 'Anti-Roma hate crime'\n",
      " 'Racist and xenophobic hate crime, Anti-Semitic hate crime'\n",
      " 'Disability hate crime'\n",
      " 'Racist and xenophobic hate crime, Anti-Christian hate crime'\n",
      " 'Gender-based hate crime'\n",
      " 'Gender-based hate crime, Anti-LGBTI hate crime'\n",
      " 'Anti-Semitic hate crime, Anti-Muslim hate crime'\n",
      " 'Anti-Muslim hate crime, Anti-LGBTI hate crime'\n",
      " 'Anti-Roma hate crime, Anti-Christian hate crime'\n",
      " 'Racist and xenophobic hate crime, Disability hate crime'\n",
      " 'Other hate crime based on religion or belief'\n",
      " 'Anti-Roma hate crime, Anti-Semitic hate crime'\n",
      " 'Racist and xenophobic hate crime, Anti-Muslim hate crime, Gender-based hate crime'\n",
      " 'Racist and xenophobic hate crime, Anti-Semitic hate crime, Anti-Muslim hate crime'\n",
      " 'Anti-Muslim hate crime, Gender-based hate crime'\n",
      " 'Racist and xenophobic hate crime, Gender-based hate crime'\n",
      " 'Disability hate crime, Anti-LGBTI hate crime'\n",
      " 'Racist and xenophobic hate crime, Gender-based hate crime, Anti-LGBTI hate crime'\n",
      " 'Anti-Christian hate crime, Gender-based hate crime'\n",
      " 'Racist and xenophobic hate crime, Other hate crime based on religion or belief'\n",
      " 'Racist and xenophobic hate crime, Anti-Roma hate crime, Anti-Semitic hate crime'\n",
      " 'Racist and xenophobic hate crime, Anti-Muslim hate crime, Anti-LGBTI hate crime'\n",
      " 'Anti-Roma hate crime, Gender-based hate crime'\n",
      " 'Anti-Christian hate crime, Anti-LGBTI hate crime'\n",
      " 'Disability hate crime, Gender-based hate crime'\n",
      " 'Anti-Semitic hate crime, Anti-Christian hate crime'\n",
      " 'Racist and xenophobic hate crime, Anti-Semitic hate crime, Anti-LGBTI hate crime'\n",
      " 'Racist and xenophobic hate crime, Anti-Semitic hate crime, Gender-based hate crime'\n",
      " 'Anti-Roma hate crime, Anti-Muslim hate crime'\n",
      " 'Racist and xenophobic hate crime, Anti-Muslim hate crime, Disability hate crime'\n",
      " 'Racist and xenophobic hate crime, Anti-Roma hate crime, Gender-based hate crime'\n",
      " 'Anti-Muslim hate crime, Disability hate crime'\n",
      " 'Anti-Roma hate crime, Anti-LGBTI hate crime'\n",
      " 'Anti-Semitic hate crime, Gender-based hate crime'\n",
      " 'Anti-Semitic hate crime, Anti-Muslim hate crime, Anti-Christian hate crime, Other hate crime based on religion or belief'\n",
      " 'Anti-Roma hate crime, Anti-Semitic hate crime, Anti-LGBTI hate crime'\n",
      " 'Racist and xenophobic hate crime, Anti-Roma hate crime, Anti-Semitic hate crime, Anti-LGBTI hate crime'\n",
      " 'Anti-Semitic hate crime, Gender-based hate crime, Anti-LGBTI hate crime'\n",
      " 'Racist and xenophobic hate crime, Anti-Semitic hate crime, Anti-Muslim hate crime, Anti-Christian hate crime'\n",
      " 'Other hate crime based on religion or belief, Gender-based hate crime, Anti-LGBTI hate crime'\n",
      " 'Racist and xenophobic hate crime, Anti-Roma hate crime, Anti-Muslim hate crime'\n",
      " 'Anti-Muslim hate crime, Anti-Christian hate crime'\n",
      " 'Anti-Roma hate crime, Disability hate crime'\n",
      " 'Anti-Semitic hate crime, Anti-Christian hate crime, Gender-based hate crime, Anti-LGBTI hate crime'\n",
      " 'Anti-Semitic hate crime, Disability hate crime'\n",
      " 'Racist and xenophobic hate crime, Anti-Semitic hate crime, Other hate crime based on religion or belief'\n",
      " 'Anti-Roma hate crime, Gender-based hate crime, Anti-LGBTI hate crime'\n",
      " 'Racist and xenophobic hate crime, Disability hate crime, Anti-LGBTI hate crime'\n",
      " 'Racist and xenophobic hate crime, Anti-Muslim hate crime, Anti-Christian hate crime'\n",
      " 'Racist and xenophobic hate crime, Anti-Semitic hate crime, Gender-based hate crime, Anti-LGBTI hate crime'\n",
      " 'Anti-Muslim hate crime, Other hate crime based on religion or belief'\n",
      " 'Anti-Semitic hate crime, Anti-Christian hate crime, Anti-LGBTI hate crime'\n",
      " 'Racist and xenophobic hate crime, Other hate crime based on religion or belief, Gender-based hate crime'\n",
      " 'Anti-Semitic hate crime, Anti-Muslim hate crime, Anti-Christian hate crime'\n",
      " 'Disability hate crime, Gender-based hate crime, Anti-LGBTI hate crime'\n",
      " 'Racist and xenophobic hate crime, Disability hate crime, Gender-based hate crime, Anti-LGBTI hate crime'] 65\n",
      "['Violent attacks against people' 'Threats' 'Attacks against property'\n",
      " 'Threats, Violent attacks against people'\n",
      " 'Attacks against property, Violent attacks against people'] 5\n"
     ]
    }
   ],
   "source": [
    "paises = dados[dados.columns[1]].unique()\n",
    "print(paises,len(paises))\n",
    "motivos = dados[dados.columns[2]].unique()\n",
    "print(motivos,len(motivos))\n",
    "incident = dados[dados.columns[3]].unique()\n",
    "print(incident,len(incident))\n"
   ]
  },
  {
   "cell_type": "markdown",
   "metadata": {},
   "source": [
    "Verificamos que existem 52 países.\n",
    "\n",
    "Os motivos verificamos que estes não estão bem estruturados, sendo que existem alguns crimes de ódio com alguns motivos. Inicialmente são 63, mas se analisarmos melhor verificamos que são menos. É necessário limpar os dados da coluna **Bias motivation**.\n",
    "\n",
    "Os tipos de incidentes, é exatamente o mesmo que o que referimos acima. Portanto é necessário limpar os dados desta coluna também.\n"
   ]
  },
  {
   "cell_type": "markdown",
   "metadata": {},
   "source": [
    "### Limpeza do DataSet da Europa"
   ]
  },
  {
   "cell_type": "code",
   "execution_count": 19,
   "metadata": {},
   "outputs": [
    {
     "name": "stdout",
     "output_type": "stream",
     "text": [
      "Working...\n",
      "\n"
     ]
    },
    {
     "name": "stdout",
     "output_type": "stream",
     "text": [
      "Clean file Europe\n"
     ]
    }
   ],
   "source": [
    "def Europe():\n",
    "\n",
    "    FileNameClean = \"OriginalDataSet/hate_crime_europeClean.csv\"\n",
    "    FileName = \"DataSet/hate_crime_europe.csv\"\n",
    "    count = 0\n",
    "    with open(FileName, 'r') as f, open(FileNameClean,\"a\") as FW:\n",
    "            for linha in f:\n",
    "                if count > 0:\n",
    "                    reader = csv.reader([linha], delimiter=',', quotechar='\"')\n",
    "                    dados_completos = next(reader)\n",
    "                    date = dados_completos[0]\n",
    "                    divide = date.split(\"-\")\n",
    "                    year = divide[0]\n",
    "                    if(len(divide) > 1 ):\n",
    "                        month = divide[1]\n",
    "                    else:\n",
    "                        month = \"\"\n",
    "                    country = dados_completos[1]\n",
    "                    continent = \"Europe\"\n",
    "                    bias_desc = dados_completos[2]\n",
    "                    bias = bias_desc.split(\",\")\n",
    "                    offense = dados_completos[3]\n",
    "                    typeoffense = offense.split(\",\")\n",
    "                    for b in bias: \n",
    "                        for o in typeoffense:    \n",
    "                            helper = str(count) + \",\" +  continent + \",\" +  country + \",\" + year + \",\" + month + \",\" +  b.strip() + \",\" + o.strip() + \"\\n\"\n",
    "                            FW.write(helper)\n",
    "                    \n",
    "                \n",
    "                else:\n",
    "                    info = \"incident_id,country,state_name,year,month,bias_desc,offense_name\\n\"\n",
    "                    FW.write(info)\n",
    "                    print(\"Working...\\n\")\n",
    "                    \n",
    "                count+=1\n",
    "    print(\"Clean file Europe\")\n",
    "\n",
    "    \n",
    "Europe()"
   ]
  },
  {
   "cell_type": "markdown",
   "metadata": {},
   "source": [
    "Com base no código acima, limpamos o dataset, colocamos o continente, dividimos a data pelo seu mês e ano, e dividimos os motivos, ou seja, se um caso tem cerca de 2 motivos, entao foram adicionadas 2 linhas, uma para cada motivo.\n",
    "\n",
    "Iremos analisar agora quantos motivos existem e os tipos de incidente."
   ]
  },
  {
   "cell_type": "code",
   "execution_count": 20,
   "metadata": {},
   "outputs": [
    {
     "name": "stdout",
     "output_type": "stream",
     "text": [
      "['Belgium' 'Austria' 'Belarus' 'Bulgaria' 'Denmark' 'France' 'Greece'\n",
      " 'United Kingdom' 'Hungary' 'Armenia' 'Italy' 'Turkey' 'Spain' 'Slovakia'\n",
      " 'Russian Federation' 'Serbia' 'Slovenia' 'Georgia' 'Poland' 'Croatia'\n",
      " 'North Macedonia' 'Kyrgyzstan' 'Tajikistan' 'Uzbekistan' 'Ukraine'\n",
      " 'Moldova' 'Kazakhstan' 'Norway' 'Sweden' 'Switzerland' 'Lithuania'\n",
      " 'Latvia' 'Germany' 'Canada' 'Albania' 'Bosnia and Herzegovina'\n",
      " 'Czech Republic' 'Ireland' 'Netherlands' 'Romania' 'Turkmenistan'\n",
      " 'Luxembourg' 'Cyprus' 'Montenegro' 'Estonia' 'Finland' 'Iceland'\n",
      " 'Portugal' 'Azerbaijan' 'Monaco' 'Malta' 'Liechtenstein'] 52\n",
      "['Anti-Semitic hate crime' 'Anti-LGBTI hate crime'\n",
      " 'Racist and xenophobic hate crime' 'Anti-Muslim hate crime'\n",
      " 'Anti-Christian hate crime' 'Anti-Roma hate crime'\n",
      " 'Disability hate crime' 'Gender-based hate crime'\n",
      " 'Other hate crime based on religion or belief'] 9\n",
      "['Violent attacks against people' 'Threats' 'Attacks against property'] 3\n"
     ]
    }
   ],
   "source": [
    "dadosEurope = pd.read_csv(\"OriginalDataSet/hate_crime_europeClean.csv\")\n",
    "\n",
    "paises = dadosEurope[dadosEurope.columns[2]].unique()\n",
    "print(paises,len(paises))\n",
    "motivos = dadosEurope[dadosEurope.columns[5]].unique()\n",
    "print(motivos,len(motivos))\n",
    "incident = dadosEurope[dadosEurope.columns[6]].unique()\n",
    "print(incident,len(incident))\n"
   ]
  },
  {
   "cell_type": "markdown",
   "metadata": {},
   "source": [
    "Analisando o resultado, é possível visualizar cerca de 52 países tal como anteriormente. \n",
    "\n",
    "Temos cerca de 9 tipos de motivação, iremos apresentar os motivos, apresentando exemplos de vítimas.\n",
    "\n",
    "**Motivos**\n",
    "* Anti-Semitic hate\n",
    "    - membros da comunidade judaica.\n",
    "* Anti-LGBTI hate\n",
    "    - Agressão verbal ou física contra pessoas LGBTQ+\n",
    "* Racist and xenophobic hate\n",
    "    - assédio racial contra indivíduos de minorias étnicas.\n",
    "* Anti-Muslim hate\n",
    "    - religião islâmica \n",
    "* Anti-Christian hate\n",
    "    - Profanação de igrejas ou cemitérios cristãos.\n",
    "* Anti-Roma hate\n",
    "    - Discriminação contra a comunidade Roma\n",
    "* Disability hate\n",
    "    - bullying de pessoas com deficiência\n",
    "* Gender-based hate \n",
    "    - pessoas transgénero ou não conformes com o gênero.\n",
    "* Other hate crime based on religion or belief\n",
    "    - locais de culto de religiões minoritárias.\n",
    "\n",
    "E 3 tipos de incidentes que são os seguintes:\n",
    "\n",
    "**Tipos de incidentes**\n",
    "* Violent attacks against people\n",
    "    - São todos os casos que envolvam a vítima diretamente, por exemplo, assalto, (simples e violentos), abusos, homícidios,raptos...\n",
    "* Threats\n",
    "    - Ameaças, intimidações.\n",
    "* Attacks against property\n",
    "    - Corresponde aos roubos, destruição de propriedade, estrago e vandalismo..."
   ]
  },
  {
   "cell_type": "markdown",
   "metadata": {},
   "source": [
    "#### DataSet Estados Unidos da América\n",
    "\n",
    "Após fazermos uma limpeza do dataset da Europa, iremos abordar os estados unidos da américa.\n",
    "\n"
   ]
  },
  {
   "cell_type": "code",
   "execution_count": 21,
   "metadata": {},
   "outputs": [
    {
     "name": "stdout",
     "output_type": "stream",
     "text": [
      "   incident_id  data_year        ori pug_agency_name pub_agency_unit  \\\n",
      "0       186845       2016  AK0010100       Anchorage             NaN   \n",
      "\n",
      "  agency_type_name state_abbr state_name division_name region_name  ...  \\\n",
      "0             City         AK     Alaska       Pacific        West  ...   \n",
      "\n",
      "  offender_race offender_ethnicity victim_count    offense_name  \\\n",
      "0         White            Unknown            1  Simple Assault   \n",
      "\n",
      "   total_individual_victims                location_name  \\\n",
      "0                       1.0  School-Elementary/Secondary   \n",
      "\n",
      "                        bias_desc  victim_types multiple_offense multiple_bias  \n",
      "0  Anti-Black or African American    Individual                S            S\"  \n",
      "\n",
      "[1 rows x 28 columns]\n"
     ]
    }
   ],
   "source": [
    "dados = pd.read_csv(\"DataSet/hate_crime.csv\")\n",
    "print(dados[:1])"
   ]
  },
  {
   "cell_type": "markdown",
   "metadata": {},
   "source": [
    "Com base neste dataset, visualizamos que existem cerca de 28 colunas para cada crime cometido.\n",
    "\n",
    "Logo, temos de comparar colunas que contenham relações com o dataset da europa. Sendo que neste caso são as colunas:\n",
    "\n",
    "* incident_id - nº do incidente\n",
    "* Country - que é os estados unidos\n",
    "* state_name - estado\n",
    "* incident_date - dia do incidente\n",
    "* bias desc - motivo/os\n",
    "* offense_name - ofensa/as\n"
   ]
  },
  {
   "cell_type": "code",
   "execution_count": 51,
   "metadata": {},
   "outputs": [
    {
     "name": "stdout",
     "output_type": "stream",
     "text": [
      "Estados 53\n",
      "Motivos 364\n",
      "Ofensa 281\n"
     ]
    }
   ],
   "source": [
    "estados = dados[dados.columns[7]].unique()\n",
    "print('Estados',len(estados))\n",
    "motivo = dados[dados.columns[-4]].unique()\n",
    "print('Motivos',len(motivo))\n",
    "ofensa = dados[dados.columns[-7]].unique()\n",
    "print('Ofensa',len(ofensa))"
   ]
  },
  {
   "cell_type": "markdown",
   "metadata": {},
   "source": [
    "Existem bastantes motivos, mas tal como na europa, isto é a consequência das combinações, visto que um crime pode ter vários motivos e várias ofensas.\n",
    "\n",
    "Portanto, iremos analisar as ofensas e estabelecer uma ligação com o dataset da europa, identificar cada tipo de motivo deste dataset com os 9 motivos do dataset anterior. E iremos fazer o mesmo para as ofensas.\n",
    "\n",
    "Iremos fazer uma limpeza nos dados, com base no dataset anterior, para isso precisamos dos seguintes dicionários."
   ]
  },
  {
   "cell_type": "code",
   "execution_count": 5,
   "metadata": {},
   "outputs": [],
   "source": [
    "# Dicionário dos tipos de motivos, relacionando os 2 datasets.\n",
    "lib = {\"Anti-Black or African American\":\"Racist and xenophobic hate crime\",\n",
    "       \"Anti-Asian\":\"Racist and xenophobic hate crime\",\n",
    "       \"Anti-American Indian or Alaska Native\":\"Racist and xenophobic hate crime\",\n",
    "       \"Anti-White\":\"Racist and xenophobic hate crime\",\n",
    "       \"Anti-Hispanic or Latino\":\"Racist and xenophobic hate crime\",\n",
    "       \"Anti-Lesbian (Female)\":\"Anti-LGBTI hate crime\",\n",
    "       \"Anti-Transgender\":\"Gender-based hate crime\",\n",
    "       \"Anti-Islamic (Muslim)\":\"Anti-Muslim hate crime\",\n",
    "       \"Anti-Other Race/Ethnicity/Ancestry\":\"Racist and xenophobic hate crime\",\n",
    "       \"Anti-Gay (Male)\":\"Anti-LGBTI hate crime\",\n",
    "       \"Anti-Jewish\":\"Racist and xenophobic hate crime\",\n",
    "       \"Anti-Bisexual\":\"Racist and xenophobic hate crime\",\n",
    "       \"Anti-Multiple Races\":\"Racist and xenophobic hate crime\",\n",
    "       \"Anti-Other Religion\":\"Other hate crime based on religion or belief\",\n",
    "       \"Anti-Other Christian\":\"Anti-Christian hate crime\",\n",
    "        \"Anti-Catholic\":\"Anti-Christian hate crime\",\n",
    "        \"Anti-Physical Disability\":\"Disability hate crime\",\n",
    "        \"Anti-Sikh\":\"Racist and xenophobic hate crime\",\n",
    "        \"Anti-Bisexual\":\"Anti-LGBTI hate crime\",\n",
    "        \"Anti-Protestant\":\"Racist and xenophobic hate crime\",\n",
    "        \"Anti-Native Hawaiian or Other Pacific Islander\":\"Racist and xenophobic hate crime\",\n",
    "        \"Anti-Gender Non-Conforming\":\"Gender-based hate crime\",\n",
    "        \"Anti-Multiple Religions\":\"Other hate crime based on religion or belief\",\n",
    "        \"Anti-Female\":\"Gender-based hate crime\",\n",
    "        \"Anti-Mental Disability\":\"Disability hate crime\",\n",
    "        \"Anti-Native Hawaiian or Other Pacific Islander\":\"Racist and xenophobic hate crime\",\n",
    "       \"Anti-Eastern Orthodox (Russian\":\"Racist and xenophobic hate crime\",\n",
    "       \"Anti-Church of Jesus Christ\":\"Anti-Christian hate crime\",\n",
    "       \"Anti-Arab\":\"Racist and xenophobic hate crime\",\n",
    "       \"Anti-Lesbian\":\"Anti-LGBTI hate crime\",\n",
    "       \"Anti-Heterosexual\":\"Gender-based hate crime\",\n",
    "       \"Anti-Male\":\"Gender-based hate crime\",\n",
    "       \"Anti-Hindu\":\"Other hate crime based on religion or belief\",\n",
    "       \"Anti-Atheism/Agnosticism\":\"Other hate crime based on religion or belief\",\n",
    "       \"Anti-Jehovah's Witness\":\"Other hate crime based on religion or belief\",\n",
    "       \"Anti-Buddhist\":\"Other hate crime based on religion or belief\",\n",
    "       }\n",
    "\n",
    "#Dicionário dos tipos de ofensas, relacionando os 2 datasets.\n",
    "liboffenses = {\n",
    "        \"Intimidation\":\"Threats\",\n",
    "        \"Destruction/Damage/Vandalism of Property\":\"Attacks against property\",\n",
    "        \"Simple Assault\":\"Violent attacks against people\",\n",
    "        \"Aggravated Assault\":\"Violent attacks against people\",\n",
    "        \"All Other Larceny\":\"Attacks against property\",\n",
    "        \"Shoplifting\":\"Attacks against property\",\n",
    "        \"Rape\":\"Violent attacks against people\",\n",
    "        \"Kidnapping/Abduction\":\"Violent attacks against people\",\n",
    "        \"Sexual Assault With An Object\":\"Violent attacks against people\",\n",
    "        \"Murder and Nonnegligent Manslaughter\":\"Violent attacks against people\",\n",
    "        \"Motor Vehicle Theft\":\"Attacks against property\",\n",
    "        \"Theft From Motor Vehicle\":\"Attacks against property\",\n",
    "        \"Fondling\":\"Violent attacks against people\",\n",
    "        \"Purse-snatching\":\"Attacks against property\",\n",
    "        \"Stolen Property Offenses\":\"Attacks against property\",\n",
    "        \"Drug/Narcotic Violations\":\"Violent attacks against people\",\n",
    "        \"Burglary/Breaking & Entering\":\"Attacks against property\",\n",
    "}"
   ]
  },
  {
   "cell_type": "markdown",
   "metadata": {},
   "source": [
    "Uma nota que podemos tirar, é que existem alguns casos em que iremos ignorar crimes em que as ofensas sejam insignificantes, isto porque a europa não contém esses dados. Por exemplo, os estados unidos contém alguns casos em que a motivação é desconhecida, o que é um dado desinteressante."
   ]
  },
  {
   "cell_type": "code",
   "execution_count": 7,
   "metadata": {},
   "outputs": [
    {
     "name": "stdout",
     "output_type": "stream",
     "text": [
      "Working..\n",
      "\n",
      "Clean file United States\n"
     ]
    }
   ],
   "source": [
    "def EUA():\n",
    "\n",
    "    FileNameClean = \"OriginalDataSet/hate_crime_EUA.csv\"\n",
    "    FileName = \"DataSet/hate_crime.csv\"\n",
    "    count = 0\n",
    "    with open(FileName, 'r') as f, open(FileNameClean,\"a\") as FW:\n",
    "            for linha in f:\n",
    "                if count > 0:\n",
    "                    reader = csv.reader([linha], delimiter=',', quotechar='\"')\n",
    "                    dados_completos = next(reader)\n",
    "                    incident_id = dados_completos[0]\n",
    "                    country = \"United States of America\"\n",
    "                    state_name = dados_completos[7]\n",
    "                    incident_date = dados_completos[12]\n",
    "                    listdate = incident_date.split(\"-\")\n",
    "                    year = listdate[0]\n",
    "                    month = listdate[1]\n",
    "                    bias_desc = dados_completos[-4]\n",
    "                    bias = bias_desc.split(\",\")\n",
    "                    multiple_bias = bias[0].split(\";\")\n",
    "                    offense_name = dados_completos[-7]\n",
    "                    multiple_offense = offense_name.split(\";\")\n",
    "                    offense_name = multiple_offense[0]\n",
    "                    newlinha = incident_id  + \",\" + country + \",\" + state_name + \",\" + year + \",\" + month + \",\"\n",
    "                    helper = newlinha\n",
    "  \n",
    "                    if offense_name in liboffenses:\n",
    "                        for b in multiple_bias:                        \n",
    "                            if b != ' Group' and b != \"Unknown (offender's motivation not known)\":\n",
    "                                helper +=  lib[b] + \",\" + liboffenses[offense_name] + \"\\n\"\n",
    "                                FW.write(helper)\n",
    "                                helper = newlinha\n",
    "\n",
    "                else:\n",
    "                  info = \"incident_id,country,state_name,year,month,bias_desc,offense_name\\n\"\n",
    "                  FW.write(info)\n",
    "                  print(\"Working..\\n\")\n",
    "                  count+=1\n",
    "                    \n",
    "           \n",
    "    print(\"Clean file United States\")\n",
    "\n",
    "EUA()"
   ]
  },
  {
   "cell_type": "code",
   "execution_count": 33,
   "metadata": {},
   "outputs": [
    {
     "name": "stdout",
     "output_type": "stream",
     "text": [
      "Estados 53\n",
      "Motivos 7\n",
      "Ofensa 3\n"
     ]
    }
   ],
   "source": [
    "dadosEUA = pd.read_csv(\"OriginalDataSet/hate_crime_EUA.csv\")\n",
    "\n",
    "estados = dadosEUA[dadosEUA.columns[2]].unique()\n",
    "print('Estados',len(estados))\n",
    "motivo = dadosEUA[dadosEUA.columns[5]].unique()\n",
    "print('Motivos',len(motivo))\n",
    "ofensa = dadosEUA[dadosEUA.columns[6]].unique()\n",
    "print('Ofensa',len(ofensa))"
   ]
  },
  {
   "cell_type": "markdown",
   "metadata": {},
   "source": [
    "Agora ambos os dataset apresentam 7 motivos e 4 tipos de ofensas, estas que já foram referidas anteriormente."
   ]
  },
  {
   "cell_type": "markdown",
   "metadata": {},
   "source": [
    "Após limpeza do dataset dos estados unidos, relacionando com os dados da europa, iremos juntar estes 2 num só."
   ]
  },
  {
   "cell_type": "code",
   "execution_count": 31,
   "metadata": {},
   "outputs": [
    {
     "name": "stdout",
     "output_type": "stream",
     "text": [
      "Working..\n",
      "\n",
      "Working..\n",
      "\n",
      "Join Done!\n",
      "\n"
     ]
    }
   ],
   "source": [
    "## Junção dos dados\n",
    "def JoinEUAandEurope():\n",
    "    FileNameClean = \"OriginalDataSet/hate_crime_clean.csv\"\n",
    "    FileName = \"OriginalDataSet/hate_crime_EUA.csv\"\n",
    "    count = 0\n",
    "    with open(FileName, 'r') as f, open(FileNameClean,\"a\") as FW:\n",
    "            for linha in f:\n",
    "                if count > 0:\n",
    "                    FW.write(linha)\n",
    "\n",
    "                else:\n",
    "                    info = \"incident_id,country,state_name,year,month,bias_desc,offense_name\\n\"\n",
    "                    FW.write(info)\n",
    "                    print(\"Working..\\n\")\n",
    "                count+=1\n",
    "    FileName = \"OriginalDataSet/hate_crime_europeClean.csv\"\n",
    "    count = 0\n",
    "    with open(FileName, 'r') as f, open(FileNameClean,\"a+\") as FW:\n",
    "            for linha in f:\n",
    "                if count > 0:\n",
    "                    FW.write(linha)\n",
    "                else:\n",
    "                    print(\"Working..\\n\")\n",
    "                    count+=1\n",
    "    print(\"Join Done!\\n\")\n",
    "JoinEUAandEurope()"
   ]
  },
  {
   "cell_type": "code",
   "execution_count": 32,
   "metadata": {},
   "outputs": [
    {
     "name": "stdout",
     "output_type": "stream",
     "text": [
      "EUAvsEURO 2\n",
      "Estados/Países 104\n",
      "Motivos ['Racist and xenophobic hate crime' 'Anti-LGBTI hate crime'\n",
      " 'Other hate crime based on religion or belief' 'Gender-based hate crime'\n",
      " 'Anti-Muslim hate crime' 'Disability hate crime'\n",
      " 'Anti-Christian hate crime' 'Anti-Semitic hate crime'\n",
      " 'Anti-Roma hate crime'] 9\n",
      "Ofensa 3\n"
     ]
    }
   ],
   "source": [
    "dadosclean = pd.read_csv(\"OriginalDataSet/hate_crime_clean.csv\")\n",
    "euavseurope = dadosclean[dadosclean.columns[1]].unique()\n",
    "print('EUAvsEURO',len(euavseurope))\n",
    "estados = dadosclean[dadosclean.columns[2]].unique()\n",
    "print('Estados/Países',len(estados))\n",
    "motivo = dadosclean[dadosclean.columns[5]].unique()\n",
    "print('Motivos',motivo,len(motivo))\n",
    "ofensa = dadosclean[dadosclean.columns[6]].unique()\n",
    "print('Ofensa',len(ofensa))"
   ]
  },
  {
   "cell_type": "markdown",
   "metadata": {},
   "source": [
    "Com estes resultados, conseguimos verificar que este dataset está pronto para análise, com cerca de 9 tipos de crimes, e cerca de 3 ofensas.\n",
    "\n",
    "Faltando-nos apenas criar um dataset que contenha as informações acerca da texa de imigração, nível de escolaridade e riqueza do país, entre 2016 e 2022.\n"
   ]
  },
  {
   "cell_type": "code",
   "execution_count": 77,
   "metadata": {},
   "outputs": [
    {
     "data": {
      "image/png": "[encoded data removed]",
      "text/plain": [
       "<Figure size 300x400 with 1 Axes>"
      ]
     },
     "metadata": {},
     "output_type": "display_data"
    },
    {
     "name": "stdout",
     "output_type": "stream",
     "text": [
      "country\n",
      "Europe                      18112\n",
      "United States of America    57963\n",
      "Name: incident_id, dtype: int64\n"
     ]
    }
   ],
   "source": [
    "\n",
    "counter = dadosclean.groupby('country')['incident_id'].nunique()\n",
    "\n",
    "\n",
    "categorias = [\"Europe\", \"USA\"]  \n",
    "\n",
    "\n",
    "valores = [counter['Europe'], counter['United States of America']] \n",
    "\n",
    "\n",
    "plt.figure(figsize=(3, 4)) \n",
    "plt.bar(categorias, valores, color=['skyblue', 'lightgreen'], width=0.2) \n",
    "\n",
    "\n",
    "plt.xlabel(\"Categorias\")\n",
    "plt.ylabel(\"Nº de casos\")\n",
    "plt.title(\"Nº de casos vs EUA - Europe\")\n",
    "plt.show()\n",
    "print(counter)\n",
    "\n",
    "\n"
   ]
  },
  {
   "cell_type": "markdown",
   "metadata": {},
   "source": [
    "É possível analisar que entre 2016 a 2022, os estados unidos têm cerca de 3 vezes mais casos de crimes de ódio do que a europa."
   ]
  }
 ],
 "metadata": {
  "kernelspec": {
   "display_name": "base",
   "language": "python",
   "name": "python3"
  },
  "language_info": {
   "codemirror_mode": {
    "name": "ipython",
    "version": 3
   },
   "file_extension": ".py",
   "mimetype": "text/x-python",
   "name": "python",
   "nbconvert_exporter": "python",
   "pygments_lexer": "ipython3",
   "version": "3.11.9"
  }
 },
 "nbformat": 4,
 "nbformat_minor": 2
}
